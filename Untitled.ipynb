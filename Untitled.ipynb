{
 "cells": [
  {
   "cell_type": "code",
   "execution_count": 1,
   "id": "682244e2-9259-4ee8-861e-dfebf4fecef2",
   "metadata": {},
   "outputs": [
    {
     "name": "stdout",
     "output_type": "stream",
     "text": [
      "Total cost: 100\n",
      "Budget: 120\n",
      "You are within budget!\n",
      "Money left: 20\n"
     ]
    }
   ],
   "source": [
    "# Step 1: Define variables for the prices of three items\n",
    "item1 = 50   # price of item 1\n",
    "item2 = 30   # price of item 2\n",
    "item3 = 20   # price of item 3\n",
    "\n",
    "# Step 2: Define a variable for the total budget\n",
    "budget = 120\n",
    "\n",
    "# Step 3: Calculate the total cost of the items\n",
    "total_cost = item1 + item2 + item3\n",
    "\n",
    "# Step 4 & 5: Compare total cost with the budget and calculate the difference\n",
    "if total_cost <= budget:\n",
    "    print(\"Total cost:\", total_cost)\n",
    "    print(\"Budget:\", budget)\n",
    "    print(\"You are within budget!\")\n",
    "    print(\"Money left:\", budget - total_cost)\n",
    "else:\n",
    "    print(\"Total cost:\", total_cost)\n",
    "    print(\"Budget:\", budget)\n",
    "    print(\"You are over budget!\")\n",
    "    print(\"Additional money needed:\", total_cost - budget)"
   ]
  },
  {
   "cell_type": "code",
   "execution_count": null,
   "id": "f73ea95a-0825-4c2b-9c5c-7c4ee8ae95f2",
   "metadata": {},
   "outputs": [],
   "source": []
  }
 ],
 "metadata": {
  "kernelspec": {
   "display_name": "Python 3 (ipykernel)",
   "language": "python",
   "name": "python3"
  },
  "language_info": {
   "codemirror_mode": {
    "name": "ipython",
    "version": 3
   },
   "file_extension": ".py",
   "mimetype": "text/x-python",
   "name": "python",
   "nbconvert_exporter": "python",
   "pygments_lexer": "ipython3",
   "version": "3.12.4"
  }
 },
 "nbformat": 4,
 "nbformat_minor": 5
}
